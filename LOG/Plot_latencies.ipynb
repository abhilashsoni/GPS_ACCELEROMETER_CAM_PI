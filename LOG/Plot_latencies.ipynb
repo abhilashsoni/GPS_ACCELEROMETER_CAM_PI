{
 "cells": [
  {
   "cell_type": "code",
   "execution_count": 1,
   "metadata": {},
   "outputs": [],
   "source": [
    "import firebase_admin\n",
    "from firebase_admin import credentials, firestore\n",
    "import re\n",
    "from datetime import datetime\n",
    "import time\n",
    "import matplotlib.pyplot as plt\n",
    "import numpy as np\n",
    "%matplotlib inline"
   ]
  },
  {
   "cell_type": "code",
   "execution_count": 2,
   "metadata": {},
   "outputs": [],
   "source": [
    "cred = credentials.Certificate(\"serviceAccountKey.json\")\n",
    "firebase_admin.initialize_app(cred)\n",
    "db = firestore.client()"
   ]
  },
  {
   "cell_type": "code",
   "execution_count": 14,
   "metadata": {
    "collapsed": true
   },
   "outputs": [],
   "source": [
    "def plot_doc(doc_ref):\n",
    "    doc = doc_ref.get()\n",
    "    a = doc.to_dict()\n",
    "    # print(a)\n",
    "    keys = list(sorted(a.keys()))\n",
    "    diffs = [] \n",
    "    for i in range(0,len(keys)-1):\n",
    "        key1 = keys[i]\n",
    "        key2 = keys[i+1]\n",
    "        keyparsed1 = datetime.strptime(key1, \"%a %b %d %H:%M:%S %Y\")\n",
    "        keyparsed2 = datetime.strptime(key2, \"%a %b %d %H:%M:%S %Y\")\n",
    "        dif = keyparsed2-keyparsed1\n",
    "        #print(dif)\n",
    "        #k = dif.split(':')\n",
    "        #measure = k[0]*3600+k[1]*60+k[2]\n",
    "        measure = dif.total_seconds()\n",
    "        diffs.append(measure)\n",
    "    print(\"Average : {}\".format(np.mean(diffs)))\n",
    "    print(\"Std dev : {}\".format(np.std(diffs)))\n",
    "    plt.hist(diffs, normed=True, bins=100,cumulative=True)\n",
    "    plt.ylabel('Probability');"
   ]
  },
  {
   "cell_type": "code",
   "execution_count": 15,
   "metadata": {},
   "outputs": [
    {
     "name": "stdout",
     "output_type": "stream",
     "text": [
      "Average : 1.1948051948051948\n",
      "Std dev : 0.42758643202998253\n"
     ]
    },
    {
     "data": {
      "image/png": "[encoded data removed]",
      "text/plain": [
       "<matplotlib.figure.Figure at 0x1ffb13e0c50>"
      ]
     },
     "metadata": {},
     "output_type": "display_data"
    }
   ],
   "source": [
    "# database_ref = db.collection(u'sensor_data_mp')\n",
    "arduino_file_ref = db.collection(u'sensor_data_mp').document(u'arduino')\n",
    "# docs = database_ref.get()\n",
    "# for doc in docs:\n",
    "#     plot_doc(doc)\n",
    "plot_doc(arduino_file_ref)"
   ]
  },
  {
   "cell_type": "code",
   "execution_count": 33,
   "metadata": {},
   "outputs": [
    {
     "data": {
      "text/plain": [
       "datetime.datetime(2018, 10, 31, 18, 19, 13, 510000)"
      ]
     },
     "execution_count": 33,
     "metadata": {},
     "output_type": "execute_result"
    }
   ],
   "source": [
    "key1 = datetime.utcnow().strftime('%Y-%m-%d %H:%M:%S.%f')[:-3]\n",
    "keyparsed1 = datetime.strptime(key1, \"%Y-%m-%d %H:%M:%S.%f\")\n",
    "keyparsed1"
   ]
  },
  {
   "cell_type": "code",
   "execution_count": 34,
   "metadata": {},
   "outputs": [
    {
     "data": {
      "text/plain": [
       "datetime.datetime(2018, 10, 31, 18, 19, 15, 124000)"
      ]
     },
     "execution_count": 34,
     "metadata": {},
     "output_type": "execute_result"
    }
   ],
   "source": [
    "key2 = datetime.utcnow().strftime('%Y-%m-%d %H:%M:%S.%f')[:-3]\n",
    "keyparsed2 = datetime.strptime(key2, \"%Y-%m-%d %H:%M:%S.%f\")\n",
    "keyparsed2"
   ]
  },
  {
   "cell_type": "code",
   "execution_count": 35,
   "metadata": {},
   "outputs": [
    {
     "data": {
      "text/plain": [
       "2.228"
      ]
     },
     "execution_count": 35,
     "metadata": {},
     "output_type": "execute_result"
    }
   ],
   "source": [
    "diff = (keyparsed2-keyparsed1).total_seconds()+(keyparsed2-keyparsed1).microseconds/1000000.0\n",
    "diff"
   ]
  },
  {
   "cell_type": "code",
   "execution_count": null,
   "metadata": {
    "collapsed": true
   },
   "outputs": [],
   "source": [
    "def time_diff(timestr1,timestr2):\n",
    "    keyparsed1 = datetime.strptime(timestr1, \"%Y-%m-%d %H:%M:%S.%f\")\n",
    "    keyparsed1 = datetime.strptime(timestr2, \"%Y-%m-%d %H:%M:%S.%f\")\n",
    "    diff = (keyparsed2-keyparsed1).total_seconds()+(keyparsed2-keyparsed1).microseconds/1000000.0\n",
    "    return diff    "
   ]
  }
 ],
 "metadata": {
  "kernelspec": {
   "display_name": "Python 3",
   "language": "python",
   "name": "python3"
  },
  "language_info": {
   "codemirror_mode": {
    "name": "ipython",
    "version": 3
   },
   "file_extension": ".py",
   "mimetype": "text/x-python",
   "name": "python",
   "nbconvert_exporter": "python",
   "pygments_lexer": "ipython3",
   "version": "3.6.1"
  }
 },
 "nbformat": 4,
 "nbformat_minor": 2
}
